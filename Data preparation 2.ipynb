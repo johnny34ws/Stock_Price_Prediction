{
 "cells": [
  {
   "cell_type": "code",
   "id": "initial_id",
   "metadata": {
    "collapsed": true,
    "ExecuteTime": {
     "end_time": "2024-06-16T16:25:42.160423Z",
     "start_time": "2024-06-16T16:25:42.152530Z"
    }
   },
   "source": [
    "import numpy as np\n",
    "import pandas as pd"
   ],
   "outputs": [],
   "execution_count": 81
  },
  {
   "metadata": {
    "ExecuteTime": {
     "end_time": "2024-06-16T16:25:42.278465Z",
     "start_time": "2024-06-16T16:25:42.219974Z"
    }
   },
   "cell_type": "code",
   "source": [
    "apple = pd.read_csv(\"AAPL.csv\")\n",
    "amazon = pd.read_csv(\"AMZN.csv\")\n",
    "google = pd.read_csv(\"GOOG.csv\")\n",
    "google_l = pd.read_csv(\"GOOGL.csv\")\n",
    "microsoft = pd.read_csv(\"MSFT.csv\")\n",
    "tesla = pd.read_csv(\"TSLA.csv\")"
   ],
   "id": "125308715c2938f2",
   "outputs": [],
   "execution_count": 82
  },
  {
   "metadata": {
    "ExecuteTime": {
     "end_time": "2024-06-16T16:25:42.330583Z",
     "start_time": "2024-06-16T16:25:42.320758Z"
    }
   },
   "cell_type": "code",
   "source": [
    "def paint(data):\n",
    "    data = data.iloc[::-1]\n",
    "    data = data.reset_index(drop=True)\n",
    "    data['Label'] = np.where(data['adj close'].shift(-1) > data['adj close'], 1, 0)\n",
    "    #data['Label'] = (data['close'] > data['open']).astype(int)\n",
    "    return data\n",
    "apple = paint(apple)\n",
    "amazon = paint(amazon)\n",
    "google = paint(google)\n",
    "google_l = paint(google_l)\n",
    "microsoft = paint(microsoft)\n",
    "tesla = paint(tesla)"
   ],
   "id": "63a186014ebcd224",
   "outputs": [],
   "execution_count": 83
  },
  {
   "metadata": {
    "ExecuteTime": {
     "end_time": "2024-06-16T16:25:54.543088Z",
     "start_time": "2024-06-16T16:25:42.352588Z"
    }
   },
   "cell_type": "code",
   "source": [
    "tweets = pd.read_csv(\"D:\\johnny的文件夹\\FDU 课程\\大二下\\大数据商务分析\\Final project\\data\\Tweet\\Tweet.csv\")\n",
    "company_tweets = pd.read_csv(\n",
    "    \"D:\\johnny的文件夹\\FDU 课程\\大二下\\大数据商务分析\\Final project\\data\\Tweet\\Company_Tweet.csv\")\n",
    "tweets.drop('writer', axis=1, inplace=True)\n",
    "df_tweets = pd.merge(tweets, company_tweets, on='tweet_id', how='left')\n",
    "df_tweets['post_date'] = pd.to_datetime(df_tweets['post_date'], unit='s')\n",
    "df_tweets['post_date'] = df_tweets['post_date'].dt.strftime('%Y-%m-%d')\n",
    "df_tweets.drop('tweet_id', axis=1, inplace=True)"
   ],
   "id": "5cd7d9a6e6eb98d1",
   "outputs": [],
   "execution_count": 84
  },
  {
   "metadata": {
    "ExecuteTime": {
     "end_time": "2024-06-16T16:25:54.632943Z",
     "start_time": "2024-06-16T16:25:54.544151Z"
    }
   },
   "cell_type": "code",
   "source": "df_tweets['tweet_score'] = 1 * df_tweets['comment_num'] + 1 * df_tweets['retweet_num'] + 1.2 * df_tweets['like_num']",
   "id": "f53888a8ea41e9f8",
   "outputs": [],
   "execution_count": 85
  },
  {
   "metadata": {
    "ExecuteTime": {
     "end_time": "2024-06-16T16:25:54.796394Z",
     "start_time": "2024-06-16T16:25:54.633967Z"
    }
   },
   "cell_type": "code",
   "source": "df_tweets = df_tweets[df_tweets['tweet_score'] >= 50].reset_index()",
   "id": "28c592655bb0fc2e",
   "outputs": [],
   "execution_count": 86
  },
  {
   "metadata": {
    "ExecuteTime": {
     "end_time": "2024-06-16T16:25:54.831200Z",
     "start_time": "2024-06-16T16:25:54.799409Z"
    }
   },
   "cell_type": "code",
   "source": [
    "df_tweets.drop('index', axis=1, inplace=True)\n",
    "df_tweets.drop('comment_num', axis=1, inplace=True)\n",
    "df_tweets.drop('retweet_num', axis=1, inplace=True)\n",
    "df_tweets.drop('like_num', axis=1, inplace=True)\n"
   ],
   "id": "37f6a27356794c5f",
   "outputs": [],
   "execution_count": 87
  },
  {
   "metadata": {
    "ExecuteTime": {
     "end_time": "2024-06-16T16:25:54.867540Z",
     "start_time": "2024-06-16T16:25:54.833220Z"
    }
   },
   "cell_type": "code",
   "source": [
    "df_tweets.rename(columns={'post_date': 'date'}, inplace=True)\n",
    "df_tweets['date'] = pd.to_datetime(df_tweets['date'])\n",
    "df_tweets"
   ],
   "id": "73e0b76b08513506",
   "outputs": [
    {
     "data": {
      "text/plain": [
       "            date                                               body  \\\n",
       "0     2015-01-01  Jeff Bezos lost $7.4 billion in Amazon's worst...   \n",
       "1     2015-01-01  Jeff Bezos lost $7.4 billion in Amazon's worst...   \n",
       "2     2015-01-01  Analyst Report on Top Stock Market Options for...   \n",
       "3     2015-01-01  Analyst Report on Top Stock Market Options for...   \n",
       "4     2015-01-01  Top Stock Analyst Releases Report on Top Stock...   \n",
       "...          ...                                                ...   \n",
       "50038 2019-12-31  Dumb question, is this enough people to run a ...   \n",
       "50039 2019-12-31  My top picks for 2020 (in no particular order)...   \n",
       "50040 2019-12-31  Ima say this now and ima say it loud.GAPUSHOME...   \n",
       "50041 2019-12-31  Hey @ChrisSpelter, does this mean $TSLA is wor...   \n",
       "50042 2019-12-31  $TSLA Interesting...$93M trade after hours!Whe...   \n",
       "\n",
       "      ticker_symbol  tweet_score  \n",
       "0              AMZN        228.4  \n",
       "1              AMZN        198.4  \n",
       "2              AAPL        433.6  \n",
       "3              AMZN        433.6  \n",
       "4              AAPL        433.4  \n",
       "...             ...          ...  \n",
       "50038          TSLA         65.8  \n",
       "50039          TSLA         98.2  \n",
       "50040          AMZN         73.6  \n",
       "50041          TSLA         53.6  \n",
       "50042          TSLA         98.8  \n",
       "\n",
       "[50043 rows x 4 columns]"
      ],
      "text/html": [
       "<div>\n",
       "<style scoped>\n",
       "    .dataframe tbody tr th:only-of-type {\n",
       "        vertical-align: middle;\n",
       "    }\n",
       "\n",
       "    .dataframe tbody tr th {\n",
       "        vertical-align: top;\n",
       "    }\n",
       "\n",
       "    .dataframe thead th {\n",
       "        text-align: right;\n",
       "    }\n",
       "</style>\n",
       "<table border=\"1\" class=\"dataframe\">\n",
       "  <thead>\n",
       "    <tr style=\"text-align: right;\">\n",
       "      <th></th>\n",
       "      <th>date</th>\n",
       "      <th>body</th>\n",
       "      <th>ticker_symbol</th>\n",
       "      <th>tweet_score</th>\n",
       "    </tr>\n",
       "  </thead>\n",
       "  <tbody>\n",
       "    <tr>\n",
       "      <th>0</th>\n",
       "      <td>2015-01-01</td>\n",
       "      <td>Jeff Bezos lost $7.4 billion in Amazon's worst...</td>\n",
       "      <td>AMZN</td>\n",
       "      <td>228.4</td>\n",
       "    </tr>\n",
       "    <tr>\n",
       "      <th>1</th>\n",
       "      <td>2015-01-01</td>\n",
       "      <td>Jeff Bezos lost $7.4 billion in Amazon's worst...</td>\n",
       "      <td>AMZN</td>\n",
       "      <td>198.4</td>\n",
       "    </tr>\n",
       "    <tr>\n",
       "      <th>2</th>\n",
       "      <td>2015-01-01</td>\n",
       "      <td>Analyst Report on Top Stock Market Options for...</td>\n",
       "      <td>AAPL</td>\n",
       "      <td>433.6</td>\n",
       "    </tr>\n",
       "    <tr>\n",
       "      <th>3</th>\n",
       "      <td>2015-01-01</td>\n",
       "      <td>Analyst Report on Top Stock Market Options for...</td>\n",
       "      <td>AMZN</td>\n",
       "      <td>433.6</td>\n",
       "    </tr>\n",
       "    <tr>\n",
       "      <th>4</th>\n",
       "      <td>2015-01-01</td>\n",
       "      <td>Top Stock Analyst Releases Report on Top Stock...</td>\n",
       "      <td>AAPL</td>\n",
       "      <td>433.4</td>\n",
       "    </tr>\n",
       "    <tr>\n",
       "      <th>...</th>\n",
       "      <td>...</td>\n",
       "      <td>...</td>\n",
       "      <td>...</td>\n",
       "      <td>...</td>\n",
       "    </tr>\n",
       "    <tr>\n",
       "      <th>50038</th>\n",
       "      <td>2019-12-31</td>\n",
       "      <td>Dumb question, is this enough people to run a ...</td>\n",
       "      <td>TSLA</td>\n",
       "      <td>65.8</td>\n",
       "    </tr>\n",
       "    <tr>\n",
       "      <th>50039</th>\n",
       "      <td>2019-12-31</td>\n",
       "      <td>My top picks for 2020 (in no particular order)...</td>\n",
       "      <td>TSLA</td>\n",
       "      <td>98.2</td>\n",
       "    </tr>\n",
       "    <tr>\n",
       "      <th>50040</th>\n",
       "      <td>2019-12-31</td>\n",
       "      <td>Ima say this now and ima say it loud.GAPUSHOME...</td>\n",
       "      <td>AMZN</td>\n",
       "      <td>73.6</td>\n",
       "    </tr>\n",
       "    <tr>\n",
       "      <th>50041</th>\n",
       "      <td>2019-12-31</td>\n",
       "      <td>Hey @ChrisSpelter, does this mean $TSLA is wor...</td>\n",
       "      <td>TSLA</td>\n",
       "      <td>53.6</td>\n",
       "    </tr>\n",
       "    <tr>\n",
       "      <th>50042</th>\n",
       "      <td>2019-12-31</td>\n",
       "      <td>$TSLA Interesting...$93M trade after hours!Whe...</td>\n",
       "      <td>TSLA</td>\n",
       "      <td>98.8</td>\n",
       "    </tr>\n",
       "  </tbody>\n",
       "</table>\n",
       "<p>50043 rows × 4 columns</p>\n",
       "</div>"
      ]
     },
     "execution_count": 88,
     "metadata": {},
     "output_type": "execute_result"
    }
   ],
   "execution_count": 88
  },
  {
   "metadata": {
    "ExecuteTime": {
     "end_time": "2024-06-16T16:25:54.904888Z",
     "start_time": "2024-06-16T16:25:54.868621Z"
    }
   },
   "cell_type": "code",
   "source": [
    "def explore(df,company):\n",
    "    df1 = df[df['ticker_symbol'] == company]\n",
    "    score = df1.groupby('date')['tweet_score'].sum()\n",
    "    df1 = pd.concat([score],axis=1)\n",
    "    df1 = df1.reset_index()\n",
    "    return df1\n",
    "apple_tweets = explore(df_tweets,'AAPL')\n",
    "amazon_tweets = explore(df_tweets,'AMZN')\n",
    "google_tweets = explore(df_tweets,'GOOG')\n",
    "googlel_tweets = explore(df_tweets,'GOOGL')\n",
    "microsoft_tweets = explore(df_tweets,'MSFT')\n",
    "tesla_tweets = explore(df_tweets,'TSLA')"
   ],
   "id": "7baf870deda67534",
   "outputs": [],
   "execution_count": 89
  },
  {
   "metadata": {
    "ExecuteTime": {
     "end_time": "2024-06-16T16:25:54.913076Z",
     "start_time": "2024-06-16T16:25:54.905923Z"
    }
   },
   "cell_type": "code",
   "source": "apple_tweets",
   "id": "1fe2881951a2f44b",
   "outputs": [
    {
     "data": {
      "text/plain": [
       "           date  tweet_score\n",
       "0    2015-01-01       1304.2\n",
       "1    2015-01-02       1687.2\n",
       "2    2015-01-04        481.8\n",
       "3    2015-01-05        280.0\n",
       "4    2015-01-08        248.2\n",
       "...         ...          ...\n",
       "1498 2019-12-27        202.6\n",
       "1499 2019-12-28       1696.4\n",
       "1500 2019-12-29        467.8\n",
       "1501 2019-12-30       1468.4\n",
       "1502 2019-12-31       1047.6\n",
       "\n",
       "[1503 rows x 2 columns]"
      ],
      "text/html": [
       "<div>\n",
       "<style scoped>\n",
       "    .dataframe tbody tr th:only-of-type {\n",
       "        vertical-align: middle;\n",
       "    }\n",
       "\n",
       "    .dataframe tbody tr th {\n",
       "        vertical-align: top;\n",
       "    }\n",
       "\n",
       "    .dataframe thead th {\n",
       "        text-align: right;\n",
       "    }\n",
       "</style>\n",
       "<table border=\"1\" class=\"dataframe\">\n",
       "  <thead>\n",
       "    <tr style=\"text-align: right;\">\n",
       "      <th></th>\n",
       "      <th>date</th>\n",
       "      <th>tweet_score</th>\n",
       "    </tr>\n",
       "  </thead>\n",
       "  <tbody>\n",
       "    <tr>\n",
       "      <th>0</th>\n",
       "      <td>2015-01-01</td>\n",
       "      <td>1304.2</td>\n",
       "    </tr>\n",
       "    <tr>\n",
       "      <th>1</th>\n",
       "      <td>2015-01-02</td>\n",
       "      <td>1687.2</td>\n",
       "    </tr>\n",
       "    <tr>\n",
       "      <th>2</th>\n",
       "      <td>2015-01-04</td>\n",
       "      <td>481.8</td>\n",
       "    </tr>\n",
       "    <tr>\n",
       "      <th>3</th>\n",
       "      <td>2015-01-05</td>\n",
       "      <td>280.0</td>\n",
       "    </tr>\n",
       "    <tr>\n",
       "      <th>4</th>\n",
       "      <td>2015-01-08</td>\n",
       "      <td>248.2</td>\n",
       "    </tr>\n",
       "    <tr>\n",
       "      <th>...</th>\n",
       "      <td>...</td>\n",
       "      <td>...</td>\n",
       "    </tr>\n",
       "    <tr>\n",
       "      <th>1498</th>\n",
       "      <td>2019-12-27</td>\n",
       "      <td>202.6</td>\n",
       "    </tr>\n",
       "    <tr>\n",
       "      <th>1499</th>\n",
       "      <td>2019-12-28</td>\n",
       "      <td>1696.4</td>\n",
       "    </tr>\n",
       "    <tr>\n",
       "      <th>1500</th>\n",
       "      <td>2019-12-29</td>\n",
       "      <td>467.8</td>\n",
       "    </tr>\n",
       "    <tr>\n",
       "      <th>1501</th>\n",
       "      <td>2019-12-30</td>\n",
       "      <td>1468.4</td>\n",
       "    </tr>\n",
       "    <tr>\n",
       "      <th>1502</th>\n",
       "      <td>2019-12-31</td>\n",
       "      <td>1047.6</td>\n",
       "    </tr>\n",
       "  </tbody>\n",
       "</table>\n",
       "<p>1503 rows × 2 columns</p>\n",
       "</div>"
      ]
     },
     "execution_count": 90,
     "metadata": {},
     "output_type": "execute_result"
    }
   ],
   "execution_count": 90
  },
  {
   "metadata": {
    "ExecuteTime": {
     "end_time": "2024-06-16T16:25:54.959101Z",
     "start_time": "2024-06-16T16:25:54.913076Z"
    }
   },
   "cell_type": "code",
   "source": [
    "def make_stock(stock,tweet):\n",
    "    stock['date'] = pd.to_datetime(stock['date'])\n",
    "    tweet['date']= pd.to_datetime(tweet['date'])\n",
    "    \n",
    "    start_date = '2015-01-01'\n",
    "    end_date = '2019-12-31'\n",
    "    stock = stock.loc[(stock['date'] >= start_date) & (stock['date'] <= end_date)]\n",
    "    result = pd.merge(stock,tweet,on='date',how='left')\n",
    "    return result\n",
    "apple = make_stock(apple,apple_tweets).dropna()\n",
    "amazon = make_stock(amazon,amazon_tweets).dropna()\n",
    "google = make_stock(google,google_tweets).dropna()\n",
    "googlel = make_stock(google_l,googlel_tweets).dropna()\n",
    "microsoft = make_stock(microsoft,microsoft_tweets).dropna()\n",
    "tesla = make_stock(tesla,tesla_tweets).dropna()"
   ],
   "id": "e6c62c47eedb10d8",
   "outputs": [],
   "execution_count": 91
  },
  {
   "metadata": {
    "ExecuteTime": {
     "end_time": "2024-06-16T16:25:54.969201Z",
     "start_time": "2024-06-16T16:25:54.960109Z"
    }
   },
   "cell_type": "code",
   "source": "apple",
   "id": "d54749ce3966eb71",
   "outputs": [
    {
     "data": {
      "text/plain": [
       "           date        open        high         low       close   adj close  \\\n",
       "0    2015-01-02  111.389999  111.440002  107.349998  109.330002  100.216454   \n",
       "1    2015-01-05  108.290001  108.650002  105.410004  106.250000   97.393181   \n",
       "4    2015-01-08  109.230003  112.150002  108.699997  111.889999  102.563072   \n",
       "5    2015-01-09  112.669998  113.250000  110.209999  112.010002  102.673050   \n",
       "6    2015-01-12  112.599998  112.629997  108.800003  109.250000  100.143120   \n",
       "...         ...         ...         ...         ...         ...         ...   \n",
       "1253 2019-12-24  284.690002  284.890015  282.920013  284.269989  283.596924   \n",
       "1254 2019-12-26  284.820007  289.980011  284.700012  289.910004  289.223602   \n",
       "1255 2019-12-27  291.119995  293.970001  288.119995  289.799988  289.113831   \n",
       "1256 2019-12-30  289.459991  292.690002  285.220001  291.519989  290.829773   \n",
       "1257 2019-12-31  289.929993  293.679993  289.519989  293.649994  292.954712   \n",
       "\n",
       "        volume  Label  tweet_score  \n",
       "0     53204600      0       1687.2  \n",
       "1     64285500      1        280.0  \n",
       "4     59364500      1        248.2  \n",
       "5     53699500      0         93.8  \n",
       "6     49650800      1         76.6  \n",
       "...        ...    ...          ...  \n",
       "1253  12119700      1        572.8  \n",
       "1254  23280300      0        853.4  \n",
       "1255  36566500      1        202.6  \n",
       "1256  36028600      1       1468.4  \n",
       "1257  25201400      1       1047.6  \n",
       "\n",
       "[1115 rows x 9 columns]"
      ],
      "text/html": [
       "<div>\n",
       "<style scoped>\n",
       "    .dataframe tbody tr th:only-of-type {\n",
       "        vertical-align: middle;\n",
       "    }\n",
       "\n",
       "    .dataframe tbody tr th {\n",
       "        vertical-align: top;\n",
       "    }\n",
       "\n",
       "    .dataframe thead th {\n",
       "        text-align: right;\n",
       "    }\n",
       "</style>\n",
       "<table border=\"1\" class=\"dataframe\">\n",
       "  <thead>\n",
       "    <tr style=\"text-align: right;\">\n",
       "      <th></th>\n",
       "      <th>date</th>\n",
       "      <th>open</th>\n",
       "      <th>high</th>\n",
       "      <th>low</th>\n",
       "      <th>close</th>\n",
       "      <th>adj close</th>\n",
       "      <th>volume</th>\n",
       "      <th>Label</th>\n",
       "      <th>tweet_score</th>\n",
       "    </tr>\n",
       "  </thead>\n",
       "  <tbody>\n",
       "    <tr>\n",
       "      <th>0</th>\n",
       "      <td>2015-01-02</td>\n",
       "      <td>111.389999</td>\n",
       "      <td>111.440002</td>\n",
       "      <td>107.349998</td>\n",
       "      <td>109.330002</td>\n",
       "      <td>100.216454</td>\n",
       "      <td>53204600</td>\n",
       "      <td>0</td>\n",
       "      <td>1687.2</td>\n",
       "    </tr>\n",
       "    <tr>\n",
       "      <th>1</th>\n",
       "      <td>2015-01-05</td>\n",
       "      <td>108.290001</td>\n",
       "      <td>108.650002</td>\n",
       "      <td>105.410004</td>\n",
       "      <td>106.250000</td>\n",
       "      <td>97.393181</td>\n",
       "      <td>64285500</td>\n",
       "      <td>1</td>\n",
       "      <td>280.0</td>\n",
       "    </tr>\n",
       "    <tr>\n",
       "      <th>4</th>\n",
       "      <td>2015-01-08</td>\n",
       "      <td>109.230003</td>\n",
       "      <td>112.150002</td>\n",
       "      <td>108.699997</td>\n",
       "      <td>111.889999</td>\n",
       "      <td>102.563072</td>\n",
       "      <td>59364500</td>\n",
       "      <td>1</td>\n",
       "      <td>248.2</td>\n",
       "    </tr>\n",
       "    <tr>\n",
       "      <th>5</th>\n",
       "      <td>2015-01-09</td>\n",
       "      <td>112.669998</td>\n",
       "      <td>113.250000</td>\n",
       "      <td>110.209999</td>\n",
       "      <td>112.010002</td>\n",
       "      <td>102.673050</td>\n",
       "      <td>53699500</td>\n",
       "      <td>0</td>\n",
       "      <td>93.8</td>\n",
       "    </tr>\n",
       "    <tr>\n",
       "      <th>6</th>\n",
       "      <td>2015-01-12</td>\n",
       "      <td>112.599998</td>\n",
       "      <td>112.629997</td>\n",
       "      <td>108.800003</td>\n",
       "      <td>109.250000</td>\n",
       "      <td>100.143120</td>\n",
       "      <td>49650800</td>\n",
       "      <td>1</td>\n",
       "      <td>76.6</td>\n",
       "    </tr>\n",
       "    <tr>\n",
       "      <th>...</th>\n",
       "      <td>...</td>\n",
       "      <td>...</td>\n",
       "      <td>...</td>\n",
       "      <td>...</td>\n",
       "      <td>...</td>\n",
       "      <td>...</td>\n",
       "      <td>...</td>\n",
       "      <td>...</td>\n",
       "      <td>...</td>\n",
       "    </tr>\n",
       "    <tr>\n",
       "      <th>1253</th>\n",
       "      <td>2019-12-24</td>\n",
       "      <td>284.690002</td>\n",
       "      <td>284.890015</td>\n",
       "      <td>282.920013</td>\n",
       "      <td>284.269989</td>\n",
       "      <td>283.596924</td>\n",
       "      <td>12119700</td>\n",
       "      <td>1</td>\n",
       "      <td>572.8</td>\n",
       "    </tr>\n",
       "    <tr>\n",
       "      <th>1254</th>\n",
       "      <td>2019-12-26</td>\n",
       "      <td>284.820007</td>\n",
       "      <td>289.980011</td>\n",
       "      <td>284.700012</td>\n",
       "      <td>289.910004</td>\n",
       "      <td>289.223602</td>\n",
       "      <td>23280300</td>\n",
       "      <td>0</td>\n",
       "      <td>853.4</td>\n",
       "    </tr>\n",
       "    <tr>\n",
       "      <th>1255</th>\n",
       "      <td>2019-12-27</td>\n",
       "      <td>291.119995</td>\n",
       "      <td>293.970001</td>\n",
       "      <td>288.119995</td>\n",
       "      <td>289.799988</td>\n",
       "      <td>289.113831</td>\n",
       "      <td>36566500</td>\n",
       "      <td>1</td>\n",
       "      <td>202.6</td>\n",
       "    </tr>\n",
       "    <tr>\n",
       "      <th>1256</th>\n",
       "      <td>2019-12-30</td>\n",
       "      <td>289.459991</td>\n",
       "      <td>292.690002</td>\n",
       "      <td>285.220001</td>\n",
       "      <td>291.519989</td>\n",
       "      <td>290.829773</td>\n",
       "      <td>36028600</td>\n",
       "      <td>1</td>\n",
       "      <td>1468.4</td>\n",
       "    </tr>\n",
       "    <tr>\n",
       "      <th>1257</th>\n",
       "      <td>2019-12-31</td>\n",
       "      <td>289.929993</td>\n",
       "      <td>293.679993</td>\n",
       "      <td>289.519989</td>\n",
       "      <td>293.649994</td>\n",
       "      <td>292.954712</td>\n",
       "      <td>25201400</td>\n",
       "      <td>1</td>\n",
       "      <td>1047.6</td>\n",
       "    </tr>\n",
       "  </tbody>\n",
       "</table>\n",
       "<p>1115 rows × 9 columns</p>\n",
       "</div>"
      ]
     },
     "execution_count": 92,
     "metadata": {},
     "output_type": "execute_result"
    }
   ],
   "execution_count": 92
  },
  {
   "metadata": {
    "ExecuteTime": {
     "end_time": "2024-06-16T16:25:54.980161Z",
     "start_time": "2024-06-16T16:25:54.971210Z"
    }
   },
   "cell_type": "code",
   "source": [
    "from sklearn.model_selection import train_test_split\n",
    "from sklearn.linear_model import LogisticRegression\n",
    "from sklearn.preprocessing import StandardScaler\n",
    "from sklearn.metrics import precision_score, recall_score, f1_score, accuracy_score\n",
    "from sklearn.model_selection import GridSearchCV\n",
    "\n",
    "def lgr_model(stock):\n",
    "    data_X = stock[['open','high','low','close', 'volume','tweet_score']]\n",
    "    data_y = stock['Label']\n",
    "    X_train, X_test, y_train, y_test = train_test_split(data_X, data_y, test_size=0.2, random_state=4)\n",
    "    model = LogisticRegression(max_iter=20000)\n",
    "    model.fit(X_train, y_train)\n",
    "    \n",
    "    y_pred = model.predict(X_test)\n",
    "    precision = precision_score(y_test, y_pred)\n",
    "    recall = recall_score(y_test, y_pred)\n",
    "    f1 = f1_score(y_test, y_pred)\n",
    "    acc = accuracy_score(y_test, y_pred)\n",
    "    print(\"Precision:{}, Recall:{}, f1:{}\".format(precision, recall, f1))\n",
    "\n",
    "    \n",
    "    pred = model.predict(data_X)\n",
    "    return (model,pred)\n"
   ],
   "id": "fa5b2d3b7b9c9fe9",
   "outputs": [],
   "execution_count": 93
  },
  {
   "metadata": {
    "ExecuteTime": {
     "end_time": "2024-06-16T16:25:55.006854Z",
     "start_time": "2024-06-16T16:25:54.981170Z"
    }
   },
   "cell_type": "code",
   "source": [
    "prediction_apple = lgr_model(apple)[1]\n",
    "apple['pre_Label'] = prediction_apple"
   ],
   "id": "a129f5ad2da64d64",
   "outputs": [
    {
     "name": "stdout",
     "output_type": "stream",
     "text": [
      "Precision:0.5112107623318386, Recall:1.0, f1:0.6765578635014837\n"
     ]
    }
   ],
   "execution_count": 94
  },
  {
   "metadata": {
    "ExecuteTime": {
     "end_time": "2024-06-16T16:25:55.026987Z",
     "start_time": "2024-06-16T16:25:55.007862Z"
    }
   },
   "cell_type": "code",
   "source": [
    "apple.reset_index(inplace=True)\n",
    "initial_fund = 10000\n",
    "funds = initial_fund\n",
    "for index in range(len(apple) - 1):\n",
    "    if apple.loc[index, 'pre_Label'] == 1:\n",
    "        funds += (apple.loc[index + 1, 'close'] - apple.loc[index + 1, 'open'])\n",
    "print(funds)"
   ],
   "id": "ca19f8002e0bc3e2",
   "outputs": [
    {
     "name": "stdout",
     "output_type": "stream",
     "text": [
      "10103.199996948242\n"
     ]
    }
   ],
   "execution_count": 95
  },
  {
   "metadata": {
    "ExecuteTime": {
     "end_time": "2024-06-16T16:25:55.052569Z",
     "start_time": "2024-06-16T16:25:55.028042Z"
    }
   },
   "cell_type": "code",
   "source": "prediction_amazon = lgr_model(amazon)",
   "id": "3cb26f6bd628ddc8",
   "outputs": [
    {
     "name": "stdout",
     "output_type": "stream",
     "text": [
      "Precision:0.553072625698324, Recall:0.99, f1:0.7096774193548387\n"
     ]
    }
   ],
   "execution_count": 96
  },
  {
   "metadata": {
    "ExecuteTime": {
     "end_time": "2024-06-16T16:25:55.056298Z",
     "start_time": "2024-06-16T16:25:55.053583Z"
    }
   },
   "cell_type": "code",
   "source": [
    "amazon['pre_Label'] = prediction_amazon[1]\n",
    "#amazon.drop('level_0')"
   ],
   "id": "dc9d52cf95df026",
   "outputs": [],
   "execution_count": 97
  },
  {
   "metadata": {
    "ExecuteTime": {
     "end_time": "2024-06-16T16:25:55.081463Z",
     "start_time": "2024-06-16T16:25:55.057308Z"
    }
   },
   "cell_type": "code",
   "source": [
    "amazon.reset_index(inplace=True)\n",
    "initial_fund = 10000\n",
    "funds = initial_fund\n",
    "for index in range(len(amazon) - 1):\n",
    "    if amazon.loc[index, 'pre_Label'] == 1:\n",
    "        funds += (amazon.loc[index + 1, 'close'] - amazon.loc[index + 1, 'open'])\n",
    "print(funds)"
   ],
   "id": "5d18ad1a4c3829af",
   "outputs": [
    {
     "name": "stdout",
     "output_type": "stream",
     "text": [
      "9231.730346679688\n"
     ]
    }
   ],
   "execution_count": 98
  },
  {
   "metadata": {
    "ExecuteTime": {
     "end_time": "2024-06-16T16:25:55.118830Z",
     "start_time": "2024-06-16T16:25:55.082472Z"
    }
   },
   "cell_type": "code",
   "source": "prediction_google = lgr_model(google)",
   "id": "7bfaa34121cccec",
   "outputs": [
    {
     "name": "stdout",
     "output_type": "stream",
     "text": [
      "Precision:0.5972222222222222, Recall:0.6825396825396826, f1:0.6370370370370371\n"
     ]
    }
   ],
   "execution_count": 99
  },
  {
   "metadata": {
    "ExecuteTime": {
     "end_time": "2024-06-16T16:25:55.131365Z",
     "start_time": "2024-06-16T16:25:55.119842Z"
    }
   },
   "cell_type": "code",
   "source": [
    "google['pre_Label'] = prediction_google[1]\n",
    "#amazon.drop('level_0')\n",
    "google.reset_index(inplace=True)\n",
    "initial_fund = 10000\n",
    "funds = initial_fund\n",
    "for index in range(len(google) - 1):\n",
    "    if google.loc[index, 'pre_Label'] == 1:\n",
    "        funds += (google.loc[index + 1, 'close'] - google.loc[index + 1, 'open'])\n",
    "print(funds)"
   ],
   "id": "3b5d0603f7b2b976",
   "outputs": [
    {
     "name": "stdout",
     "output_type": "stream",
     "text": [
      "10400.369995117188\n"
     ]
    }
   ],
   "execution_count": 100
  },
  {
   "metadata": {
    "ExecuteTime": {
     "end_time": "2024-06-16T16:25:55.159445Z",
     "start_time": "2024-06-16T16:25:55.132377Z"
    }
   },
   "cell_type": "code",
   "source": "prediction_googlel = lgr_model(googlel)",
   "id": "2eb35aa83f3b96df",
   "outputs": [
    {
     "name": "stdout",
     "output_type": "stream",
     "text": [
      "Precision:0.5851063829787234, Recall:0.7333333333333333, f1:0.650887573964497\n"
     ]
    }
   ],
   "execution_count": 101
  },
  {
   "metadata": {
    "ExecuteTime": {
     "end_time": "2024-06-16T16:25:55.175339Z",
     "start_time": "2024-06-16T16:25:55.161457Z"
    }
   },
   "cell_type": "code",
   "source": [
    "googlel['pre_Label'] = prediction_googlel[1]\n",
    "#amazon.drop('level_0')\n",
    "googlel.reset_index(inplace=True)\n",
    "initial_fund = 10000\n",
    "funds = initial_fund\n",
    "for index in range(len(googlel) - 1):\n",
    "    if googlel.loc[index, 'pre_Label'] == 1:\n",
    "        funds += (googlel.loc[index + 1, 'close'] - googlel.loc[index + 1, 'open'])\n",
    "print(funds)"
   ],
   "id": "3006bb295d75edfe",
   "outputs": [
    {
     "name": "stdout",
     "output_type": "stream",
     "text": [
      "10162.990234375\n"
     ]
    }
   ],
   "execution_count": 102
  },
  {
   "metadata": {
    "ExecuteTime": {
     "end_time": "2024-06-16T16:25:55.196988Z",
     "start_time": "2024-06-16T16:25:55.176349Z"
    }
   },
   "cell_type": "code",
   "source": "prediction_microsoft = lgr_model(microsoft)",
   "id": "61fc6babb5311d65",
   "outputs": [
    {
     "name": "stdout",
     "output_type": "stream",
     "text": [
      "Precision:0.5877192982456141, Recall:1.0, f1:0.7403314917127072\n"
     ]
    }
   ],
   "execution_count": 103
  },
  {
   "metadata": {
    "ExecuteTime": {
     "end_time": "2024-06-16T16:25:55.215431Z",
     "start_time": "2024-06-16T16:25:55.203492Z"
    }
   },
   "cell_type": "code",
   "source": [
    "microsoft['pre_Label'] = prediction_microsoft[1]\n",
    "#amazon.drop('level_0')\n",
    "microsoft.reset_index(inplace=True)\n",
    "initial_fund = 10000\n",
    "funds = initial_fund\n",
    "for index in range(len(microsoft) - 1):\n",
    "    if microsoft.loc[index, 'pre_Label'] == 1:\n",
    "        funds += (microsoft.loc[index + 1, 'close'] - microsoft.loc[index + 1, 'open'])\n",
    "print(funds)"
   ],
   "id": "f495e07ad1822682",
   "outputs": [
    {
     "name": "stdout",
     "output_type": "stream",
     "text": [
      "10016.829956054688\n"
     ]
    }
   ],
   "execution_count": 104
  },
  {
   "metadata": {
    "ExecuteTime": {
     "end_time": "2024-06-16T16:25:55.236131Z",
     "start_time": "2024-06-16T16:25:55.216439Z"
    }
   },
   "cell_type": "code",
   "source": "prediction_tesla = lgr_model(tesla)",
   "id": "5f8b1194cb14606",
   "outputs": [
    {
     "name": "stdout",
     "output_type": "stream",
     "text": [
      "Precision:0.4606741573033708, Recall:0.44565217391304346, f1:0.4530386740331492\n"
     ]
    }
   ],
   "execution_count": 105
  },
  {
   "metadata": {
    "ExecuteTime": {
     "end_time": "2024-06-16T16:25:55.249800Z",
     "start_time": "2024-06-16T16:25:55.236131Z"
    }
   },
   "cell_type": "code",
   "source": [
    "tesla['pre_Label'] = prediction_tesla[1]\n",
    "#amazon.drop('level_0')\n",
    "tesla.reset_index(inplace=True)\n",
    "initial_fund = 10000\n",
    "funds = initial_fund\n",
    "for index in range(len(tesla) - 1):\n",
    "    if tesla.loc[index, 'pre_Label'] == 1:\n",
    "        funds += (tesla.loc[index + 1, 'close'] - tesla.loc[index + 1, 'open'])\n",
    "print(funds)"
   ],
   "id": "da08220582eff8ed",
   "outputs": [
    {
     "name": "stdout",
     "output_type": "stream",
     "text": [
      "10141.149795532227\n"
     ]
    }
   ],
   "execution_count": 106
  },
  {
   "metadata": {
    "ExecuteTime": {
     "end_time": "2024-06-16T16:25:55.257516Z",
     "start_time": "2024-06-16T16:25:55.250807Z"
    }
   },
   "cell_type": "code",
   "source": [
    "from sklearn.svm import SVC\n",
    "def svm_model(stock):\n",
    "    X = stock[['open','high','low','adj close', 'volume','tweet_score']]\n",
    "    y = stock['Label']\n",
    "    scaler = StandardScaler()\n",
    "    X_scaled = scaler.fit_transform(X)\n",
    "    X_train, X_test, y_train, y_test = train_test_split(X_scaled, y, test_size=0.2, random_state=42)\n",
    "    \n",
    "    model = SVC(class_weight='balanced', random_state=4)\n",
    "    model.fit(X_train, y_train)\n",
    "    y_pred = model.predict(X_test)\n",
    "    #print(y_pred)\n",
    "\n",
    "    precision = precision_score(y_test, y_pred)\n",
    "    recall = recall_score(y_test, y_pred)\n",
    "    f1 = f1_score(y_test, y_pred)\n",
    "    print(\"Precision:{}, Recall:{}, f1:{}\".format(precision, recall, f1))\n",
    "    \n",
    "    param_grid = {\n",
    "    'C': [400,500,600,700],\n",
    "    'gamma': ['scale', 'auto',0.01,0.1,1],\n",
    "    'kernel': ['rbf']\n",
    "}\n",
    "    grid_search = GridSearchCV(estimator=model, param_grid=param_grid, cv=3, scoring='precision')\n",
    "    grid_search.fit(X_train, y_train)\n",
    "    \n",
    "    print(\"Best parameters found:\", grid_search.best_params_)\n",
    "    \n",
    "    best_svm_model = grid_search.best_estimator_\n",
    "    best_svm_model.fit(X_train, y_train)\n",
    "    \n",
    "    y_pred_best = best_svm_model.predict(X_test)\n",
    "    precision_best = precision_score(y_test, y_pred_best)\n",
    "    recall_best = recall_score(y_test, y_pred_best)\n",
    "    f1_best = f1_score(y_test, y_pred_best)\n",
    "    print(precision_best, recall_best, f1_best)\n",
    "    \n",
    "    pred = model.predict(X_scaled)\n",
    "    print(pred)\n",
    "    \n",
    "    return (model,pred)\n"
   ],
   "id": "8bee2aefcdb601ec",
   "outputs": [],
   "execution_count": 107
  },
  {
   "metadata": {
    "ExecuteTime": {
     "end_time": "2024-06-16T16:25:55.267370Z",
     "start_time": "2024-06-16T16:25:55.258529Z"
    }
   },
   "cell_type": "code",
   "source": [
    "def fund(stock):\n",
    "    stock.reset_index(inplace=True)\n",
    "    initial_fund = 10000\n",
    "    funds = initial_fund\n",
    "    for index in range(len(stock) - 1):\n",
    "        if stock.loc[index, 'pre_Label1'] == 1:\n",
    "            funds += (stock.loc[index + 1, 'close'] - stock.loc[index + 1, 'open'])\n",
    "    print(funds)"
   ],
   "id": "9ea4ec575109b9bf",
   "outputs": [],
   "execution_count": 108
  },
  {
   "metadata": {
    "ExecuteTime": {
     "end_time": "2024-06-16T16:25:58.775139Z",
     "start_time": "2024-06-16T16:25:55.268377Z"
    }
   },
   "cell_type": "code",
   "source": [
    "prediction_apple = svm_model(apple)[1]\n",
    "apple['pre_Label1'] = prediction_apple"
   ],
   "id": "8eb7f2695e0e7080",
   "outputs": [
    {
     "name": "stdout",
     "output_type": "stream",
     "text": [
      "Precision:0.5109489051094891, Recall:0.6086956521739131, f1:0.5555555555555556\n",
      "Best parameters found: {'C': 500, 'gamma': 1, 'kernel': 'rbf'}\n",
      "0.5398230088495575 0.5304347826086957 0.5350877192982456\n",
      "[0 0 0 ... 1 1 1]\n"
     ]
    }
   ],
   "execution_count": 109
  },
  {
   "metadata": {
    "ExecuteTime": {
     "end_time": "2024-06-16T16:25:58.792942Z",
     "start_time": "2024-06-16T16:25:58.776147Z"
    }
   },
   "cell_type": "code",
   "source": "fund(apple)",
   "id": "33a79360b8424e67",
   "outputs": [
    {
     "name": "stdout",
     "output_type": "stream",
     "text": [
      "10141.01000213623\n"
     ]
    }
   ],
   "execution_count": 110
  },
  {
   "metadata": {
    "ExecuteTime": {
     "end_time": "2024-06-16T16:26:01.007132Z",
     "start_time": "2024-06-16T16:25:58.796954Z"
    }
   },
   "cell_type": "code",
   "source": [
    "prediction_amazon = svm_model(amazon)[1]\n",
    "amazon['pre_Label1'] = prediction_amazon\n",
    "fund(amazon)"
   ],
   "id": "2b73f95295587667",
   "outputs": [
    {
     "name": "stdout",
     "output_type": "stream",
     "text": [
      "Precision:0.581081081081081, Recall:0.4215686274509804, f1:0.48863636363636365\n",
      "Best parameters found: {'C': 400, 'gamma': 0.01, 'kernel': 'rbf'}\n",
      "0.5894736842105263 0.5490196078431373 0.5685279187817259\n",
      "[0 0 1 0 1 0 0 0 0 0 0 0 0 0 0 0 0 0 0 0 0 0 0 1 0 0 0 0 0 0 0 0 0 0 0 0 1\n",
      " 0 1 0 0 0 0 0 0 0 1 1 0 0 0 0 0 0 0 0 0 0 0 0 0 0 0 0 1 1 0 0 0 0 0 0 0 0\n",
      " 0 0 0 0 0 0 0 0 1 0 0 0 0 0 0 1 1 1 0 0 0 0 0 0 0 1 1 1 1 1 0 0 0 0 1 0 0\n",
      " 0 0 0 0 0 0 0 0 0 0 0 0 0 0 0 0 0 0 0 0 1 0 0 1 1 0 0 0 0 0 0 0 0 0 0 0 0\n",
      " 0 0 0 0 0 0 0 0 0 0 0 0 0 0 1 0 0 0 0 0 0 0 1 1 0 0 0 0 0 0 0 0 0 0 0 0 0\n",
      " 0 0 0 0 0 0 0 0 0 0 0 0 0 0 0 1 0 0 0 0 0 0 0 0 0 0 0 0 0 0 1 0 1 0 0 0 0\n",
      " 0 0 0 0 0 0 0 0 0 0 0 0 1 0 0 0 0 1 0 0 0 0 0 0 0 0 0 1 0 0 0 0 1 0 0 0 0\n",
      " 0 0 0 0 0 1 0 0 0 0 1 0 0 0 0 0 1 0 0 0 0 0 0 1 1 0 0 0 0 1 1 0 0 0 0 0 1\n",
      " 1 1 0 1 0 0 0 0 1 0 0 1 0 1 1 0 1 0 0 0 0 0 0 0 0 1 1 1 1 0 1 0 1 0 0 0 1\n",
      " 0 0 1 1 1 0 0 1 1 0 1 1 1 1 1 1 0 1 0 0 0 0 0 0 0 0 1 1 1 0 1 1 0 0 0 0 0\n",
      " 0 1 0 1 0 1 1 0 0 0 0 0 0 0 1 0 0 0 1 1 0 0 0 0 0 1 0 0 0 1 1 0 1 1 0 1 1\n",
      " 1 1 1 1 1 1 1 1 1 1 1 0 1 0 1 1 0 0 1 1 1 1 1 1 1 1 1 1 1 1 1 1 1 1 1 1 1\n",
      " 1 1 1 1 1 1 1 1 1 1 1 1 1 1 1 1 1 1 1 1 1 1 1 1 1 1 1 1 1 1 1 1 1 1 1 1 1\n",
      " 1 1 1 1 1 0 1 1 1 1 1 1 1 1 1 1 1 1 1 1 1 1 1 1 1 1 1 1 1 1 1 1 1 1 1 1 1\n",
      " 0 0 1 1 1 1 1 1 1 1 1 1 1 1 1 1 1 1 1 1 1 1 0 1 1 1 1 1 1 1 1 1 1 0 1 1 1\n",
      " 1 1 1 1 1 1 0 1 1 1 1 1 1 1 0 0 0 0 0 0 0 0 1 0 1 1 1 1 0 0 0 0 0 0 0 0 0\n",
      " 0 0 0 0 0 0 0 0 0 0 0 0 0 0 0 0 0 0 0 0 0 0 0 0 0 0 0 0 0 0 0 0 0 0 0 0 0\n",
      " 1 1 1 1 1 1 0 1 0 0 0 0 0 1 1 1 1 1 1 0 1 1 1 1 1 1 1 1 1 1 1 1 1 1 0 1 1\n",
      " 1 1 1 1 1 1 1 1 1 1 1 1 1 1 1 1 1 1 1 1 1 0 1 1 1 1 1 1 1 1 1 1 1 1 1 1 1\n",
      " 1 1 1 1 1 1 1 1 1 1 1 1 1 1 1 1 1 1 1 1 1 1 1 1 1 1 1 1 0 1 0 0 1 0 0 1 0\n",
      " 1 0 1 0 1 0 0 0 0 0 0 0 0 0 0 0 0 0 0 0 0 0 0 0 0 1 0 0 0 0 0 0 1 0 1 0 1\n",
      " 1 1 1 1 0 0 0 0 0 0 0 0 0 0 0 0 0 0 0 0 0 0 0 0 0 0 0 0 0 0 0 0 0 0 0 0 0\n",
      " 0 0 0 0 1 1 0 0 1 1 1 1 1 0 0 1 1 1 1 1 1 1 0 0 0 0 0 0 0 0 0 0 1 1 1 1 1\n",
      " 0 1 1 1 1 1 1 1 1 1 1 1 1 1 0 1 1 1 0 0 1 0 1 0 1 0 1 0 0 0 1 1 1 1 1 0 1\n",
      " 1 1 0 1 1 1 1 1 1 1 0 1 0 1 1 0 0 0 0 0]\n",
      "9962.319122314453\n"
     ]
    }
   ],
   "execution_count": 111
  },
  {
   "metadata": {
    "ExecuteTime": {
     "end_time": "2024-06-16T16:26:02.024727Z",
     "start_time": "2024-06-16T16:26:01.007132Z"
    }
   },
   "cell_type": "code",
   "source": "prediction_google = svm_model(google)[1]",
   "id": "c69c68b413052c99",
   "outputs": [
    {
     "name": "stdout",
     "output_type": "stream",
     "text": [
      "Precision:0.6527777777777778, Recall:0.7230769230769231, f1:0.6861313868613139\n",
      "Best parameters found: {'C': 600, 'gamma': 0.01, 'kernel': 'rbf'}\n",
      "0.6172839506172839 0.7692307692307693 0.684931506849315\n",
      "[1 1 1 1 1 0 1 1 1 0 1 1 1 1 1 1 1 1 1 1 1 1 0 1 1 0 1 1 1 1 1 1 0 1 1 1 1\n",
      " 1 1 1 1 1 1 1 1 1 1 1 1 1 1 1 0 0 1 1 1 1 1 1 1 1 1 0 1 1 1 1 0 1 1 1 1 1\n",
      " 1 1 1 1 1 0 1 1 1 1 1 1 1 1 1 1 1 1 1 1 1 1 1 1 1 1 0 0 0 1 1 1 1 1 1 1 1\n",
      " 1 1 1 1 1 1 0 1 1 1 1 1 1 1 1 1 1 1 1 1 1 1 1 1 1 0 1 1 1 1 1 1 1 1 1 1 1\n",
      " 1 1 1 1 1 1 1 1 1 0 1 1 1 1 1 1 1 1 1 1 1 1 1 1 1 1 1 1 1 1 1 1 1 1 1 1 1\n",
      " 1 1 1 1 1 1 1 1 1 1 1 0 1 1 1 1 1 1 1 1 1 1 1 1 1 0 1 1 1 1 1 0 1 1 1 1 1\n",
      " 1 1 0 0 1 1 1 1 1 1 0 1 1 1 1 1 1 1 1 1 1 1 1 1 1 1 1 1 1 1 1 1 0 1 1 1 1\n",
      " 1 0 1 1 1 1 1 1 1 1 1 1 1 1 1 1 1 1 1 1 0 1 1 1 1 1 1 1 1 1 1 0 0 0 0 0 0\n",
      " 0 0 0 0 0 0 1 1 1 1 1 1 1 0 1 1 1 1 0 0 1 0 0 1 1 0 1 1 0 0 1 1 1 0 1 1 1\n",
      " 0 0 1 1 1 1 1 1 1 1 1 1 1 1 0 0 0 1 0 0 0 0 1 1 1 1 1 0 0 0 0 0 0 0 0 0 0\n",
      " 0 0 0 0 0 0 0 0 0 0 0 0 0 1 0 1 1 1 0 0 0 0 0 0 0 1 0 0 0 0 1 1 1 0 0 0 1\n",
      " 1 0 1 1 1 0 1 1 1 1 1 1 1 0 1 1 1 1 1 1 0 0 1 1 1 0 0 0 1 1 1 1 1 1 1 1 1\n",
      " 0 1 0 0 0 0 0 0 0 0 0 0 0 1 0 0 1 0 0 1 1 1 0 1 1 1 1 1 1 1 1 0 1 1 1 1 1\n",
      " 1 1 0 1 1 0 0 0 0 0 0 1 0 0 1 0 0 0 0 0 0 0 0 0 0 0 0 0 0 0 0 0 0 0 0 0 0\n",
      " 0 0 0 0 0 0 0 0 0 0 0 0 0 0 0 0 0 0 0 0 0]\n"
     ]
    }
   ],
   "execution_count": 112
  },
  {
   "metadata": {
    "ExecuteTime": {
     "end_time": "2024-06-16T16:26:02.029920Z",
     "start_time": "2024-06-16T16:26:02.025734Z"
    }
   },
   "cell_type": "code",
   "source": [
    "google['pre_Label1'] = prediction_google\n",
    "google.reset_index(inplace=True)"
   ],
   "id": "8c62f084adcdcd50",
   "outputs": [],
   "execution_count": 113
  },
  {
   "metadata": {
    "ExecuteTime": {
     "end_time": "2024-06-16T16:26:02.047441Z",
     "start_time": "2024-06-16T16:26:02.030925Z"
    }
   },
   "cell_type": "code",
   "source": [
    "initial_fund = 10000\n",
    "funds = initial_fund\n",
    "for index in range(len(google) - 1):\n",
    "    if google.loc[index, 'pre_Label1'] == 1:\n",
    "        funds += (google.loc[index + 1, 'close'] - google.loc[index + 1, 'open'])\n",
    "print(funds)"
   ],
   "id": "3829e77763bd6737",
   "outputs": [
    {
     "name": "stdout",
     "output_type": "stream",
     "text": [
      "10197.001342773438\n"
     ]
    }
   ],
   "execution_count": 114
  },
  {
   "metadata": {
    "ExecuteTime": {
     "end_time": "2024-06-16T16:26:03.500210Z",
     "start_time": "2024-06-16T16:26:02.048447Z"
    }
   },
   "cell_type": "code",
   "source": "prediction_googlel = svm_model(googlel)[1]",
   "id": "fc241f38970a028",
   "outputs": [
    {
     "name": "stdout",
     "output_type": "stream",
     "text": [
      "Precision:0.6351351351351351, Recall:0.6438356164383562, f1:0.6394557823129252\n",
      "Best parameters found: {'C': 400, 'gamma': 0.1, 'kernel': 'rbf'}\n",
      "0.5409836065573771 0.4520547945205479 0.4925373134328358\n",
      "[0 1 0 1 1 1 1 1 1 1 0 1 1 1 1 1 1 1 1 1 1 1 1 0 0 0 0 1 1 1 1 1 1 1 0 0 1\n",
      " 1 1 1 1 1 1 1 1 1 1 1 1 0 1 1 1 1 1 1 1 1 1 1 1 1 1 1 1 0 0 1 0 0 0 0 1 1\n",
      " 1 1 1 1 1 1 1 1 1 1 0 0 1 0 1 1 1 1 1 1 1 1 1 1 1 1 1 1 0 1 0 1 1 1 1 1 1\n",
      " 1 1 1 1 0 0 1 1 1 1 0 1 1 1 1 0 1 1 1 1 0 1 1 1 1 0 1 1 0 1 1 0 0 1 1 1 0\n",
      " 1 1 1 1 1 1 1 1 1 1 1 0 0 1 1 1 1 1 1 1 1 1 1 1 0 1 1 1 0 1 1 0 1 0 1 1 1\n",
      " 1 1 1 1 1 1 1 1 1 1 1 1 1 1 1 1 1 0 1 1 1 0 1 1 1 1 1 1 1 1 1 1 1 0 1 1 1\n",
      " 1 1 1 1 1 1 1 1 1 0 0 1 1 0 1 1 1 1 1 1 1 1 1 1 1 1 1 1 1 1 1 0 1 0 1 1 0\n",
      " 1 1 0 1 1 1 1 0 1 1 0 0 1 1 1 1 1 1 1 1 1 1 1 1 1 1 1 0 1 1 1 1 1 1 1 1 1\n",
      " 1 1 0 1 1 1 0 1 1 1 1 0 0 0 0 0 0 0 0 0 0 0 0 1 1 1 1 1 1 1 1 1 0 1 1 1 0\n",
      " 0 0 0 0 0 0 0 1 0 0 0 0 1 1 1 1 1 1 1 1 1 1 1 1 1 0 0 0 0 1 1 1 0 1 1 0 1\n",
      " 1 1 1 1 1 1 1 1 0 0 0 0 1 0 0 1 1 0 0 0 0 0 0 0 0 0 1 0 1 1 1 1 1 0 0 0 0\n",
      " 0 0 0 0 0 0 0 0 0 0 0 0 0 0 0 0 0 0 0 0 0 0 0 0 0 0 0 0 0 0 0 0 0 0 0 0 0\n",
      " 0 0 0 0 0 0 0 0 0 0 0 0 0 0 0 0 0 1 0 1 1 0 0 0 0 0 0 0 0 1 0 1 1 1 1 1 0\n",
      " 0 1 0 1 0 0 1 0 1 0 0 0 1 1 0 0 1 0 0 1 0 1 0 0 1 1 0 0 0 0 0 1 1 1 1 0 1\n",
      " 1 1 1 1 1 0 0 0 1 0 0 0 0 0 0 0 0 0 0 1 0 0 0 0 0 0 0 0 0 0 0 0 0 0 0 0 0\n",
      " 0 0 1 0 1 0 1 0 0 1 1 1 0 1 0 1 1 1 1 0 1 1 1 1 1 1 1 1 1 1 1 1 1 1 1 1 1\n",
      " 1 0 0 0 0 0 0 0 0 0 0 0 0 0 0 0 0 0 1 0 0 0 0 0 0 0 0 0 0 0 0 0 0 0 0 0 0\n",
      " 0 0 0 0 0 0 0 0 0 0 0 0 0 0 0 0 0 0 0 0 0 0 0 0 0 0 0 0 0 0 0 0 0 0 0 0]\n"
     ]
    }
   ],
   "execution_count": 115
  },
  {
   "metadata": {
    "ExecuteTime": {
     "end_time": "2024-06-16T16:26:03.514451Z",
     "start_time": "2024-06-16T16:26:03.501225Z"
    }
   },
   "cell_type": "code",
   "source": [
    "googlel['pre_Label'] = prediction_googlel\n",
    "googlel.reset_index(inplace=True)\n",
    "initial_fund = 10000\n",
    "funds = initial_fund\n",
    "for index in range(len(googlel) - 1):\n",
    "    if googlel.loc[index, 'pre_Label'] == 1:\n",
    "        funds += (googlel.loc[index + 1, 'close'] - googlel.loc[index + 1, 'open'])\n",
    "print(funds)"
   ],
   "id": "7b428dbeaf03b3ba",
   "outputs": [
    {
     "name": "stdout",
     "output_type": "stream",
     "text": [
      "10247.270263671875\n"
     ]
    }
   ],
   "execution_count": 116
  },
  {
   "metadata": {
    "ExecuteTime": {
     "end_time": "2024-06-16T16:26:04.643493Z",
     "start_time": "2024-06-16T16:26:03.515458Z"
    }
   },
   "cell_type": "code",
   "source": "prediction_microsoft = svm_model(microsoft)[1]",
   "id": "1ba7e9db4afc6bbe",
   "outputs": [
    {
     "name": "stdout",
     "output_type": "stream",
     "text": [
      "Precision:0.5384615384615384, Recall:0.5645161290322581, f1:0.5511811023622047\n",
      "Best parameters found: {'C': 700, 'gamma': 1, 'kernel': 'rbf'}\n",
      "0.5230769230769231 0.5483870967741935 0.5354330708661418\n",
      "[0 0 0 1 0 0 0 0 0 0 0 0 0 0 1 0 1 0 0 0 0 0 0 0 0 1 0 0 0 0 1 1 0 0 0 0 0\n",
      " 0 0 0 0 1 0 0 0 0 0 1 0 1 0 0 1 1 1 1 1 0 0 0 1 0 0 0 0 0 0 0 0 0 1 1 1 0\n",
      " 0 1 0 1 1 0 0 0 0 0 0 0 0 0 0 1 0 0 0 0 0 0 1 1 1 1 1 1 0 0 1 1 1 0 1 1 1\n",
      " 0 1 0 0 1 0 0 1 1 1 1 1 0 1 1 1 1 0 0 0 0 0 1 1 1 1 1 1 1 1 1 1 1 1 1 1 1\n",
      " 0 1 0 0 1 0 0 0 1 0 0 1 1 1 0 1 0 0 0 0 1 1 1 1 1 1 1 1 1 1 1 1 1 1 1 0 0\n",
      " 1 1 0 1 1 1 1 1 1 1 1 1 1 1 1 1 1 1 0 1 1 1 1 1 1 1 1 1 1 1 1 1 1 1 1 1 1\n",
      " 0 1 1 1 1 1 1 1 1 1 1 1 1 1 1 1 1 1 1 1 0 1 1 1 1 1 1 1 1 1 1 1 1 1 0 1 1\n",
      " 0 1 1 1 1 1 0 0 0 0 0 0 0 0 1 0 1 1 1 1 1 1 1 1 1 1 1 1 0 0 0 0 0 1 1 1 0\n",
      " 0 1 1 1 1 1 1 1 1 1 1 1 1 1 1 1 1 0 1 1 1 1 1 1 1 1 1 1 1 1 1 1 1 1 0 1 1\n",
      " 1 1 1 1 1 1 1 1 1 1 1 1 1 1 1 1 1 1 1 1 1 1 1 1 1 1 1 1 1 1 0 0 1 1 1 1 0\n",
      " 0 0 0 0 0 1 1 1 1 1 1 1 1 1 0 1 1 1 1 1 1 0 0 1 0 0 1 0 1 1 1 1 1 1 1 1 1\n",
      " 0 0 1 1 1 1 1 1 1 1 1 1 1 1 1 1 1 1 1 1 1 1 1 1 0 1 1 1 1 1 1 1 1 1 1 1 1\n",
      " 1 1 1 1 1 1 1 1 1 1 1 1 1 1 1 1 0 0 0 1 1 1 1 1 1 0 0 0 0 1 0 1 1 0 0 0 0\n",
      " 0 0 0 0 1 1 0 0 0 0 0 0 1 0 0 0 0 0 0 0 1 0 0 0 0 0 1 0 0 0 0 1 1 0 0 0 0\n",
      " 0 1 0 0 0 0 0 0 1 0 0 1 1 0 1 0 0 0 0 0 0 0 0 0 0 0 0 0 0 1 0 0 0 0 0 0 0\n",
      " 1 0 0 0 0 0 0 0 0 0 0 0]\n"
     ]
    }
   ],
   "execution_count": 117
  },
  {
   "metadata": {
    "ExecuteTime": {
     "end_time": "2024-06-16T16:26:04.655506Z",
     "start_time": "2024-06-16T16:26:04.644501Z"
    }
   },
   "cell_type": "code",
   "source": [
    "microsoft['pre_Label'] = prediction_microsoft\n",
    "microsoft.reset_index(inplace=True)\n",
    "initial_fund = 10000\n",
    "funds = initial_fund\n",
    "for index in range(len(microsoft) - 1):\n",
    "    if microsoft.loc[index, 'pre_Label'] == 1:\n",
    "        funds += (microsoft.loc[index + 1, 'close'] - microsoft.loc[index + 1, 'open'])\n",
    "print(funds)"
   ],
   "id": "4fe88d22accf2d3e",
   "outputs": [
    {
     "name": "stdout",
     "output_type": "stream",
     "text": [
      "10017.109943389893\n"
     ]
    }
   ],
   "execution_count": 118
  },
  {
   "metadata": {
    "ExecuteTime": {
     "end_time": "2024-06-16T16:26:07.095556Z",
     "start_time": "2024-06-16T16:26:04.656513Z"
    }
   },
   "cell_type": "code",
   "source": [
    "prediction_tesla = svm_model(tesla)[1]\n",
    "tesla['pre_Label1'] = prediction_tesla\n",
    "fund(tesla)"
   ],
   "id": "4049842a45bf767a",
   "outputs": [
    {
     "name": "stdout",
     "output_type": "stream",
     "text": [
      "Precision:0.5121951219512195, Recall:0.23076923076923078, f1:0.3181818181818182\n",
      "Best parameters found: {'C': 700, 'gamma': 1, 'kernel': 'rbf'}\n",
      "0.5 0.5164835164835165 0.5081081081081081\n",
      "[0 1 1 1 0 0 0 1 1 1 1 1 0 0 1 1 1 1 1 1 1 1 1 1 1 1 1 1 1 0 0 0 1 0 0 0 0\n",
      " 0 0 0 0 0 0 0 0 0 0 0 0 0 0 0 0 0 0 0 0 1 0 0 0 0 0 0 0 0 0 0 0 0 0 0 0 0\n",
      " 0 0 0 0 1 0 0 0 1 0 0 0 0 0 0 0 0 0 0 0 0 0 1 1 1 1 1 1 1 1 1 1 1 1 0 0 0\n",
      " 0 0 0 0 1 1 1 1 1 0 0 0 0 0 0 0 0 0 0 0 0 1 0 0 0 0 1 1 1 0 0 0 0 0 0 0 0\n",
      " 0 0 0 0 1 1 1 1 0 0 0 0 0 0 0 0 0 0 0 0 0 0 0 0 0 0 0 0 0 0 0 0 0 0 0 0 0\n",
      " 1 1 1 1 1 1 1 1 1 1 0 0 0 0 0 0 1 1 1 1 1 1 1 1 1 1 1 1 1 1 1 1 1 1 1 1 1\n",
      " 1 1 1 1 1 1 1 1 1 0 0 0 0 0 0 1 0 0 0 0 0 0 0 0 0 0 0 0 0 0 0 0 0 0 1 0 1\n",
      " 0 0 0 0 0 0 0 0 0 0 0 0 0 0 1 0 0 0 1 1 1 0 0 0 0 0 1 0 0 0 0 0 0 0 0 0 0\n",
      " 0 1 0 0 1 0 0 0 0 0 0 0 0 0 0 0 0 0 1 0 0 0 1 1 1 1 1 1 1 1 0 0 1 0 1 1 1\n",
      " 0 0 0 0 1 1 1 1 1 1 0 1 0 0 0 0 0 0 0 0 0 0 1 1 0 0 0 0 0 0 0 0 0 0 0 0 0\n",
      " 0 0 0 0 0 0 0 0 0 1 0 0 0 0 0 0 0 0 1 0 0 0 0 0 0 0 0 0 0 0 0 0 0 0 0 0 1\n",
      " 0 0 0 0 0 0 0 0 0 0 0 0 0 0 0 0 1 0 0 0 0 0 0 0 0 0 0 0 0 0 0 0 0 0 0 0 0\n",
      " 0 0 1 0 0 0 0 0 0 0 0 0 0 0 0 0 0 0 0 0 0 0 0 0 1 1 0 0 0 0 0 0 0 0 0 0 0\n",
      " 0 0 0 0 0 0 0 0 0 0 0 0 0 0 0 0 1 1 1 1 1 1 1 1 1 1 1 0 0 0 0 0 0 0 0 0 0\n",
      " 0 0 0 0 0 0 0 0 0 0 0 0 0 0 1 0 0 0 0 0 0 0 0 0 0 0 0 0 0 0 1 0 1 1 0 1 1\n",
      " 1 1 0 0 0 0 0 0 0 0 0 1 0 0 0 0 0 0 0 0 0 0 0 0 0 0 0 0 0 0 0 1 0 1 0 0 0\n",
      " 1 0 0 0 0 0 0 0 0 0 0 0 0 0 0 0 0 0 0 0 0 0 0 0 0 0 0 0 0 0 0 0 0 0 0 1 0\n",
      " 0 0 0 0 0 0 0 0 0 0 0 0 0 0 0 0 0 0 0 0 0 0 0 0 0 0 0 0 0 0 0 0 0 0 0 0 0\n",
      " 0 0 0 0 0 0 0 0 0 1 0 0 0 1 0 0 0 0 0 0 0 0 0 0 0 0 0 0 0 0 0 0 0 0 0 0 0\n",
      " 0 0 0 0 0 0 0 1 1 0 0 0 0 0 0 0 0 0 0 0 0 0 0 0 0 0 0 0 0 0 0 0 0 0 0 0 0\n",
      " 0 0 0 0 0 0 0 0 0 0 0 0 0 0 0 0 0 0 0 0 0 0 0 0 0 0 0 0 0 0 0 0 0 0 0 0 0\n",
      " 0 0 0 0 1 1 1 1 0 0 0 0 0 1 1 1 1 1 1 1 1 0 1 1 0 0 1 1 1 0 1 0 1 1 1 1 1\n",
      " 1 1 0 0 0 0 0 0 0 0 0 0 0 0 0 0 0 0 0 1 0 0 0 0 0 1 0 0 0 0 0 0 1 1 1 0 1\n",
      " 1 1 1 1 1 1 1 0 1 1 1 1 1 0 0 0 0 0 0 0 0 0 0 0 1 0 0 0 0 0 0 1 0 0 0 0 0\n",
      " 0 0 0 0 0 0 0 1 1 0 0 0 0 0 0 0 0 0 0 0 0 0 0 0 0 0 0 0 0 1 0 0 0 0 0 0 0\n",
      " 0 0 0 0 0 1 0 1 1 1 1 1 1 1 1 1 1 1]\n",
      "10150.480010986328\n"
     ]
    }
   ],
   "execution_count": 119
  },
  {
   "metadata": {
    "ExecuteTime": {
     "end_time": "2024-06-16T16:26:07.098386Z",
     "start_time": "2024-06-16T16:26:07.096563Z"
    }
   },
   "cell_type": "code",
   "source": "",
   "id": "2103127a08aac39f",
   "outputs": [],
   "execution_count": 119
  }
 ],
 "metadata": {
  "kernelspec": {
   "display_name": "Python 3",
   "language": "python",
   "name": "python3"
  },
  "language_info": {
   "codemirror_mode": {
    "name": "ipython",
    "version": 2
   },
   "file_extension": ".py",
   "mimetype": "text/x-python",
   "name": "python",
   "nbconvert_exporter": "python",
   "pygments_lexer": "ipython2",
   "version": "2.7.6"
  }
 },
 "nbformat": 4,
 "nbformat_minor": 5
}
